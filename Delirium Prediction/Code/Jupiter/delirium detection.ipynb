{
  "cells": [
    {
      "cell_type": "markdown",
      "metadata": {
        "id": "qCmIdQPWdh55"
      },
      "source": [
        "Importing Libraries\n",
        "\n",
        "> *Indented block*\n",
        "\n"
      ]
    },
    {
      "cell_type": "code",
      "execution_count": 4,
      "metadata": {
        "id": "m9ZxGbtjauih"
      },
      "outputs": [],
      "source": [
        "import numpy as np\n",
        "import pandas as pd\n",
        "import matplotlib.pyplot as plt\n",
        "from sklearn.model_selection import train_test_split\n",
        "from sklearn.preprocessing import StandardScaler\n",
        "from sklearn import svm\n",
        "from sklearn.metrics import accuracy_score\n",
        "from sklearn.linear_model import LogisticRegression"
      ]
    },
    {
      "cell_type": "markdown",
      "metadata": {
        "id": "dBenJm5adrP-"
      },
      "source": [
        "Data Collection and Analysis"
      ]
    },
    {
      "cell_type": "code",
      "execution_count": 5,
      "metadata": {
        "id": "NkYoLNFXbKxJ"
      },
      "outputs": [],
      "source": [
        "#Loading the data from .csv file to a Pandas Dataframe\n",
        "delirium_data = pd.read_csv('eeg1 (1).csv')\n"
      ]
    },
    {
      "cell_type": "code",
      "execution_count": 6,
      "metadata": {
        "colab": {
          "base_uri": "https://localhost:8080/",
          "height": 369
        },
        "id": "6JPkC0xsbTLH",
        "outputId": "c8e16da8-c917-491b-f084-2e23f520ca88"
      },
      "outputs": [
        {
          "output_type": "execute_result",
          "data": {
            "text/plain": [
              "           name       Fp1        AF3        F3         F7       FC5       FC1  \\\n",
              "0  non-delirium  0.057813  -1.335266  4.640480   0.219573  7.473817  2.314842   \n",
              "1      delirium  1.367408  10.259654  3.345409   7.897852 -2.446051 -1.655035   \n",
              "2  non-delirium -1.783132   4.133553 -0.951680  -1.624803 -1.827309 -2.280364   \n",
              "3  non-delirium -3.690217  -0.814000  2.295469   0.901445  8.323679  1.127906   \n",
              "4  non-delirium  2.137114   6.420466  6.122230  10.015321  3.106394  3.183129   \n",
              "\n",
              "         C3         T7       CP5  ...        FC2        Cz        C4  \\\n",
              "0  1.918097  -9.257533  9.089943  ... -30.579542 -2.241480  1.415335   \n",
              "1 -6.301423  -7.290317 -3.546453  ...  -1.290516 -2.568397 -5.651418   \n",
              "2 -2.279225   9.151344 -0.239575  ...  11.424923 -2.132823 -0.521117   \n",
              "3  6.356886  11.642082  9.354154  ... -14.721411 -0.506117 -1.154866   \n",
              "4  3.658535   4.571793  4.917712  ... -13.815090  1.813907 -6.444635   \n",
              "\n",
              "          T8        CP6       CP2        P4       P8  PO4       O2  \n",
              "0   2.406646  12.864059  4.021099 -2.828598  0.00784    1   74.997  \n",
              "1  -0.096730  -4.930759 -1.722504 -6.111309  0.00968    1  113.819  \n",
              "2   8.605298  -4.499946 -3.232839 -4.249645  0.01050    1  111.555  \n",
              "3  -3.940251   7.390881  2.129897 -0.794675  0.00997    1  111.366  \n",
              "4 -27.680880   0.641364  1.996658 -0.445779  0.01284    1  110.655  \n",
              "\n",
              "[5 rows x 33 columns]"
            ],
            "text/html": [
              "\n",
              "  <div id=\"df-5aa896bd-2c84-424e-9f19-678cb279dd33\">\n",
              "    <div class=\"colab-df-container\">\n",
              "      <div>\n",
              "<style scoped>\n",
              "    .dataframe tbody tr th:only-of-type {\n",
              "        vertical-align: middle;\n",
              "    }\n",
              "\n",
              "    .dataframe tbody tr th {\n",
              "        vertical-align: top;\n",
              "    }\n",
              "\n",
              "    .dataframe thead th {\n",
              "        text-align: right;\n",
              "    }\n",
              "</style>\n",
              "<table border=\"1\" class=\"dataframe\">\n",
              "  <thead>\n",
              "    <tr style=\"text-align: right;\">\n",
              "      <th></th>\n",
              "      <th>name</th>\n",
              "      <th>Fp1</th>\n",
              "      <th>AF3</th>\n",
              "      <th>F3</th>\n",
              "      <th>F7</th>\n",
              "      <th>FC5</th>\n",
              "      <th>FC1</th>\n",
              "      <th>C3</th>\n",
              "      <th>T7</th>\n",
              "      <th>CP5</th>\n",
              "      <th>...</th>\n",
              "      <th>FC2</th>\n",
              "      <th>Cz</th>\n",
              "      <th>C4</th>\n",
              "      <th>T8</th>\n",
              "      <th>CP6</th>\n",
              "      <th>CP2</th>\n",
              "      <th>P4</th>\n",
              "      <th>P8</th>\n",
              "      <th>PO4</th>\n",
              "      <th>O2</th>\n",
              "    </tr>\n",
              "  </thead>\n",
              "  <tbody>\n",
              "    <tr>\n",
              "      <th>0</th>\n",
              "      <td>non-delirium</td>\n",
              "      <td>0.057813</td>\n",
              "      <td>-1.335266</td>\n",
              "      <td>4.640480</td>\n",
              "      <td>0.219573</td>\n",
              "      <td>7.473817</td>\n",
              "      <td>2.314842</td>\n",
              "      <td>1.918097</td>\n",
              "      <td>-9.257533</td>\n",
              "      <td>9.089943</td>\n",
              "      <td>...</td>\n",
              "      <td>-30.579542</td>\n",
              "      <td>-2.241480</td>\n",
              "      <td>1.415335</td>\n",
              "      <td>2.406646</td>\n",
              "      <td>12.864059</td>\n",
              "      <td>4.021099</td>\n",
              "      <td>-2.828598</td>\n",
              "      <td>0.00784</td>\n",
              "      <td>1</td>\n",
              "      <td>74.997</td>\n",
              "    </tr>\n",
              "    <tr>\n",
              "      <th>1</th>\n",
              "      <td>delirium</td>\n",
              "      <td>1.367408</td>\n",
              "      <td>10.259654</td>\n",
              "      <td>3.345409</td>\n",
              "      <td>7.897852</td>\n",
              "      <td>-2.446051</td>\n",
              "      <td>-1.655035</td>\n",
              "      <td>-6.301423</td>\n",
              "      <td>-7.290317</td>\n",
              "      <td>-3.546453</td>\n",
              "      <td>...</td>\n",
              "      <td>-1.290516</td>\n",
              "      <td>-2.568397</td>\n",
              "      <td>-5.651418</td>\n",
              "      <td>-0.096730</td>\n",
              "      <td>-4.930759</td>\n",
              "      <td>-1.722504</td>\n",
              "      <td>-6.111309</td>\n",
              "      <td>0.00968</td>\n",
              "      <td>1</td>\n",
              "      <td>113.819</td>\n",
              "    </tr>\n",
              "    <tr>\n",
              "      <th>2</th>\n",
              "      <td>non-delirium</td>\n",
              "      <td>-1.783132</td>\n",
              "      <td>4.133553</td>\n",
              "      <td>-0.951680</td>\n",
              "      <td>-1.624803</td>\n",
              "      <td>-1.827309</td>\n",
              "      <td>-2.280364</td>\n",
              "      <td>-2.279225</td>\n",
              "      <td>9.151344</td>\n",
              "      <td>-0.239575</td>\n",
              "      <td>...</td>\n",
              "      <td>11.424923</td>\n",
              "      <td>-2.132823</td>\n",
              "      <td>-0.521117</td>\n",
              "      <td>8.605298</td>\n",
              "      <td>-4.499946</td>\n",
              "      <td>-3.232839</td>\n",
              "      <td>-4.249645</td>\n",
              "      <td>0.01050</td>\n",
              "      <td>1</td>\n",
              "      <td>111.555</td>\n",
              "    </tr>\n",
              "    <tr>\n",
              "      <th>3</th>\n",
              "      <td>non-delirium</td>\n",
              "      <td>-3.690217</td>\n",
              "      <td>-0.814000</td>\n",
              "      <td>2.295469</td>\n",
              "      <td>0.901445</td>\n",
              "      <td>8.323679</td>\n",
              "      <td>1.127906</td>\n",
              "      <td>6.356886</td>\n",
              "      <td>11.642082</td>\n",
              "      <td>9.354154</td>\n",
              "      <td>...</td>\n",
              "      <td>-14.721411</td>\n",
              "      <td>-0.506117</td>\n",
              "      <td>-1.154866</td>\n",
              "      <td>-3.940251</td>\n",
              "      <td>7.390881</td>\n",
              "      <td>2.129897</td>\n",
              "      <td>-0.794675</td>\n",
              "      <td>0.00997</td>\n",
              "      <td>1</td>\n",
              "      <td>111.366</td>\n",
              "    </tr>\n",
              "    <tr>\n",
              "      <th>4</th>\n",
              "      <td>non-delirium</td>\n",
              "      <td>2.137114</td>\n",
              "      <td>6.420466</td>\n",
              "      <td>6.122230</td>\n",
              "      <td>10.015321</td>\n",
              "      <td>3.106394</td>\n",
              "      <td>3.183129</td>\n",
              "      <td>3.658535</td>\n",
              "      <td>4.571793</td>\n",
              "      <td>4.917712</td>\n",
              "      <td>...</td>\n",
              "      <td>-13.815090</td>\n",
              "      <td>1.813907</td>\n",
              "      <td>-6.444635</td>\n",
              "      <td>-27.680880</td>\n",
              "      <td>0.641364</td>\n",
              "      <td>1.996658</td>\n",
              "      <td>-0.445779</td>\n",
              "      <td>0.01284</td>\n",
              "      <td>1</td>\n",
              "      <td>110.655</td>\n",
              "    </tr>\n",
              "  </tbody>\n",
              "</table>\n",
              "<p>5 rows × 33 columns</p>\n",
              "</div>\n",
              "      <button class=\"colab-df-convert\" onclick=\"convertToInteractive('df-5aa896bd-2c84-424e-9f19-678cb279dd33')\"\n",
              "              title=\"Convert this dataframe to an interactive table.\"\n",
              "              style=\"display:none;\">\n",
              "        \n",
              "  <svg xmlns=\"http://www.w3.org/2000/svg\" height=\"24px\"viewBox=\"0 0 24 24\"\n",
              "       width=\"24px\">\n",
              "    <path d=\"M0 0h24v24H0V0z\" fill=\"none\"/>\n",
              "    <path d=\"M18.56 5.44l.94 2.06.94-2.06 2.06-.94-2.06-.94-.94-2.06-.94 2.06-2.06.94zm-11 1L8.5 8.5l.94-2.06 2.06-.94-2.06-.94L8.5 2.5l-.94 2.06-2.06.94zm10 10l.94 2.06.94-2.06 2.06-.94-2.06-.94-.94-2.06-.94 2.06-2.06.94z\"/><path d=\"M17.41 7.96l-1.37-1.37c-.4-.4-.92-.59-1.43-.59-.52 0-1.04.2-1.43.59L10.3 9.45l-7.72 7.72c-.78.78-.78 2.05 0 2.83L4 21.41c.39.39.9.59 1.41.59.51 0 1.02-.2 1.41-.59l7.78-7.78 2.81-2.81c.8-.78.8-2.07 0-2.86zM5.41 20L4 18.59l7.72-7.72 1.47 1.35L5.41 20z\"/>\n",
              "  </svg>\n",
              "      </button>\n",
              "      \n",
              "  <style>\n",
              "    .colab-df-container {\n",
              "      display:flex;\n",
              "      flex-wrap:wrap;\n",
              "      gap: 12px;\n",
              "    }\n",
              "\n",
              "    .colab-df-convert {\n",
              "      background-color: #E8F0FE;\n",
              "      border: none;\n",
              "      border-radius: 50%;\n",
              "      cursor: pointer;\n",
              "      display: none;\n",
              "      fill: #1967D2;\n",
              "      height: 32px;\n",
              "      padding: 0 0 0 0;\n",
              "      width: 32px;\n",
              "    }\n",
              "\n",
              "    .colab-df-convert:hover {\n",
              "      background-color: #E2EBFA;\n",
              "      box-shadow: 0px 1px 2px rgba(60, 64, 67, 0.3), 0px 1px 3px 1px rgba(60, 64, 67, 0.15);\n",
              "      fill: #174EA6;\n",
              "    }\n",
              "\n",
              "    [theme=dark] .colab-df-convert {\n",
              "      background-color: #3B4455;\n",
              "      fill: #D2E3FC;\n",
              "    }\n",
              "\n",
              "    [theme=dark] .colab-df-convert:hover {\n",
              "      background-color: #434B5C;\n",
              "      box-shadow: 0px 1px 3px 1px rgba(0, 0, 0, 0.15);\n",
              "      filter: drop-shadow(0px 1px 2px rgba(0, 0, 0, 0.3));\n",
              "      fill: #FFFFFF;\n",
              "    }\n",
              "  </style>\n",
              "\n",
              "      <script>\n",
              "        const buttonEl =\n",
              "          document.querySelector('#df-5aa896bd-2c84-424e-9f19-678cb279dd33 button.colab-df-convert');\n",
              "        buttonEl.style.display =\n",
              "          google.colab.kernel.accessAllowed ? 'block' : 'none';\n",
              "\n",
              "        async function convertToInteractive(key) {\n",
              "          const element = document.querySelector('#df-5aa896bd-2c84-424e-9f19-678cb279dd33');\n",
              "          const dataTable =\n",
              "            await google.colab.kernel.invokeFunction('convertToInteractive',\n",
              "                                                     [key], {});\n",
              "          if (!dataTable) return;\n",
              "\n",
              "          const docLinkHtml = 'Like what you see? Visit the ' +\n",
              "            '<a target=\"_blank\" href=https://colab.research.google.com/notebooks/data_table.ipynb>data table notebook</a>'\n",
              "            + ' to learn more about interactive tables.';\n",
              "          element.innerHTML = '';\n",
              "          dataTable['output_type'] = 'display_data';\n",
              "          await google.colab.output.renderOutput(dataTable, element);\n",
              "          const docLink = document.createElement('div');\n",
              "          docLink.innerHTML = docLinkHtml;\n",
              "          element.appendChild(docLink);\n",
              "        }\n",
              "      </script>\n",
              "    </div>\n",
              "  </div>\n",
              "  "
            ]
          },
          "metadata": {},
          "execution_count": 6
        }
      ],
      "source": [
        "#Printing the 1st 5 rows of the Dataframe\n",
        "delirium_data.head()\n"
      ]
    },
    {
      "cell_type": "code",
      "execution_count": 7,
      "metadata": {
        "colab": {
          "base_uri": "https://localhost:8080/"
        },
        "id": "yFAygLf4bV64",
        "outputId": "190537a8-76c0-47f4-c125-5ce0a2a14cf0"
      },
      "outputs": [
        {
          "output_type": "execute_result",
          "data": {
            "text/plain": [
              "(195, 33)"
            ]
          },
          "metadata": {},
          "execution_count": 7
        }
      ],
      "source": [
        "#No. of rows and columns in the Dataframe\n",
        "delirium_data.shape\n"
      ]
    },
    {
      "cell_type": "code",
      "execution_count": 8,
      "metadata": {
        "colab": {
          "base_uri": "https://localhost:8080/"
        },
        "id": "WBW-2gxYcF-u",
        "outputId": "7d44e4a3-0912-4eb4-f0b2-4a5e2ed3ffdf"
      },
      "outputs": [
        {
          "output_type": "stream",
          "name": "stdout",
          "text": [
            "<class 'pandas.core.frame.DataFrame'>\n",
            "RangeIndex: 195 entries, 0 to 194\n",
            "Data columns (total 33 columns):\n",
            " #   Column  Non-Null Count  Dtype  \n",
            "---  ------  --------------  -----  \n",
            " 0   name    195 non-null    object \n",
            " 1   Fp1     195 non-null    float64\n",
            " 2   AF3     195 non-null    float64\n",
            " 3   F3      195 non-null    float64\n",
            " 4   F7      195 non-null    float64\n",
            " 5   FC5     195 non-null    float64\n",
            " 6   FC1     195 non-null    float64\n",
            " 7   C3      195 non-null    float64\n",
            " 8   T7      195 non-null    float64\n",
            " 9   CP5     195 non-null    float64\n",
            " 10  CP1     195 non-null    float64\n",
            " 11  P3      195 non-null    float64\n",
            " 12  P7      195 non-null    float64\n",
            " 13  PO3     195 non-null    float64\n",
            " 14  O1      195 non-null    float64\n",
            " 15  Oz      195 non-null    float64\n",
            " 16  Pz      195 non-null    float64\n",
            " 17  Fp2     195 non-null    float64\n",
            " 18  AF4     195 non-null    float64\n",
            " 19  Fz      195 non-null    float64\n",
            " 20  F4      195 non-null    float64\n",
            " 21  F8      195 non-null    float64\n",
            " 22  FC6     195 non-null    float64\n",
            " 23  FC2     195 non-null    float64\n",
            " 24  Cz      195 non-null    float64\n",
            " 25  C4      195 non-null    float64\n",
            " 26  T8      195 non-null    float64\n",
            " 27  CP6     195 non-null    float64\n",
            " 28  CP2     195 non-null    float64\n",
            " 29  P4      195 non-null    float64\n",
            " 30  P8      195 non-null    float64\n",
            " 31  PO4     195 non-null    int64  \n",
            " 32  O2      195 non-null    float64\n",
            "dtypes: float64(31), int64(1), object(1)\n",
            "memory usage: 50.4+ KB\n"
          ]
        }
      ],
      "source": [
        "#Getting more infor about the dataset\n",
        "delirium_data.info()\n"
      ]
    },
    {
      "cell_type": "code",
      "execution_count": 9,
      "metadata": {
        "colab": {
          "base_uri": "https://localhost:8080/"
        },
        "id": "VEp3iX0vcJKF",
        "outputId": "22b5a7fd-8812-4fea-bd16-e027979ee367"
      },
      "outputs": [
        {
          "output_type": "execute_result",
          "data": {
            "text/plain": [
              "name    0\n",
              "Fp1     0\n",
              "AF3     0\n",
              "F3      0\n",
              "F7      0\n",
              "FC5     0\n",
              "FC1     0\n",
              "C3      0\n",
              "T7      0\n",
              "CP5     0\n",
              "CP1     0\n",
              "P3      0\n",
              "P7      0\n",
              "PO3     0\n",
              "O1      0\n",
              "Oz      0\n",
              "Pz      0\n",
              "Fp2     0\n",
              "AF4     0\n",
              "Fz      0\n",
              "F4      0\n",
              "F8      0\n",
              "FC6     0\n",
              "FC2     0\n",
              "Cz      0\n",
              "C4      0\n",
              "T8      0\n",
              "CP6     0\n",
              "CP2     0\n",
              "P4      0\n",
              "P8      0\n",
              "PO4     0\n",
              "O2      0\n",
              "dtype: int64"
            ]
          },
          "metadata": {},
          "execution_count": 9
        }
      ],
      "source": [
        "#Checking for missing values in each column\n",
        "delirium_data.isnull().sum()\n"
      ]
    },
    {
      "cell_type": "code",
      "source": [
        "import seaborn as sns\n",
        "sns.countplot(delirium_data['PO4'])"
      ],
      "metadata": {
        "colab": {
          "base_uri": "https://localhost:8080/",
          "height": 447
        },
        "id": "407y0Ug7yClI",
        "outputId": "7abc1fb2-3acb-443c-9ff0-e80e91e68ccd"
      },
      "execution_count": 10,
      "outputs": [
        {
          "output_type": "execute_result",
          "data": {
            "text/plain": [
              "<Axes: ylabel='count'>"
            ]
          },
          "metadata": {},
          "execution_count": 10
        },
        {
          "output_type": "display_data",
          "data": {
            "text/plain": [
              "<Figure size 640x480 with 1 Axes>"
            ],
            "image/png": "[encoded data removed]"
          },
          "metadata": {}
        }
      ]
    },
    {
      "cell_type": "code",
      "source": [
        "sns.countplot(delirium_data['O2'])"
      ],
      "metadata": {
        "colab": {
          "base_uri": "https://localhost:8080/",
          "height": 447
        },
        "id": "mZiuN0zxyerT",
        "outputId": "d30fd28e-3cdf-45a9-925b-2253f6d7dbad"
      },
      "execution_count": 11,
      "outputs": [
        {
          "output_type": "execute_result",
          "data": {
            "text/plain": [
              "<Axes: ylabel='count'>"
            ]
          },
          "metadata": {},
          "execution_count": 11
        },
        {
          "output_type": "display_data",
          "data": {
            "text/plain": [
              "<Figure size 640x480 with 1 Axes>"
            ],
            "image/png": "[encoded data removed]"
          },
          "metadata": {}
        }
      ]
    },
    {
      "cell_type": "code",
      "execution_count": 12,
      "metadata": {
        "colab": {
          "base_uri": "https://localhost:8080/",
          "height": 393
        },
        "id": "1F8mJAFVcLu3",
        "outputId": "887e504f-3e26-416a-992a-d516902fab07"
      },
      "outputs": [
        {
          "output_type": "execute_result",
          "data": {
            "text/plain": [
              "              Fp1         AF3          F3          F7         FC5         FC1  \\\n",
              "count  195.000000  195.000000  195.000000  195.000000  195.000000  195.000000   \n",
              "mean    -0.106505   -0.349343   -0.042240   -0.299562    0.226797    0.050570   \n",
              "std      5.413082   40.817099    4.231414   28.327196   32.842429    9.909672   \n",
              "min    -18.735390 -174.162043  -10.964000 -117.254905  -95.516772  -29.704726   \n",
              "25%     -3.400272  -12.026347   -3.186378  -10.372932  -11.161279   -5.009656   \n",
              "50%      0.405876   -0.259976   -0.126543   -0.265751    0.214436   -0.073445   \n",
              "75%      3.057775   11.600970    2.561254   10.780359    9.818905    4.674052   \n",
              "max     14.212123  113.828207   11.656166   73.831522  140.707711   38.094272   \n",
              "\n",
              "               C3          T7         CP5         CP1  ...         FC2  \\\n",
              "count  195.000000  195.000000  195.000000  195.000000  ...  195.000000   \n",
              "mean     0.262757   -0.339075    0.499166   -0.019999  ...   -1.176044   \n",
              "std     31.506629   42.499395   57.459542   14.832331  ...  196.030158   \n",
              "min    -93.189754 -175.751521 -169.456961  -59.674319  ... -839.742441   \n",
              "25%     -9.012655  -14.709759  -16.210154   -5.761297  ...  -46.760695   \n",
              "50%      0.666480   -0.410979    1.870917    0.246369  ...   -2.669080   \n",
              "75%      8.440832   17.121559   14.427592    5.516463  ...   54.802399   \n",
              "max    133.738083  118.616808  247.950231   43.397580  ...  580.377956   \n",
              "\n",
              "               Cz          C4          T8         CP6         CP2          P4  \\\n",
              "count  195.000000  195.000000  195.000000  195.000000  195.000000  195.000000   \n",
              "mean     0.003777    0.162426   -0.205818    0.528529    0.330874    0.202599   \n",
              "std      3.746052   16.718352   42.422750   85.065154   50.036629   29.564096   \n",
              "min    -12.207208  -42.033744 -179.094185 -240.847897 -146.128309  -80.901045   \n",
              "25%     -2.268921   -6.388532  -17.249298  -24.784211  -13.037962   -8.775240   \n",
              "50%      0.060986    0.264788    0.885534    0.361499    0.968173   -0.747113   \n",
              "75%      2.483893    7.185898   16.891510   21.546786   12.277061    8.434530   \n",
              "max      9.599755   71.302678  124.343828  366.740914  214.349394  126.611391   \n",
              "\n",
              "               P8         PO4          O2  \n",
              "count  195.000000  195.000000  195.000000  \n",
              "mean     0.006220    0.753846  116.324631  \n",
              "std      0.004848    0.431878   43.521413  \n",
              "min      0.001680    0.000000   65.476000  \n",
              "25%      0.003460    1.000000   84.291000  \n",
              "50%      0.004940    1.000000  104.315000  \n",
              "75%      0.007365    1.000000  140.018500  \n",
              "max      0.033160    1.000000  239.170000  \n",
              "\n",
              "[8 rows x 32 columns]"
            ],
            "text/html": [
              "\n",
              "  <div id=\"df-7665b511-91ad-4452-8fcd-bd67b63a0d42\">\n",
              "    <div class=\"colab-df-container\">\n",
              "      <div>\n",
              "<style scoped>\n",
              "    .dataframe tbody tr th:only-of-type {\n",
              "        vertical-align: middle;\n",
              "    }\n",
              "\n",
              "    .dataframe tbody tr th {\n",
              "        vertical-align: top;\n",
              "    }\n",
              "\n",
              "    .dataframe thead th {\n",
              "        text-align: right;\n",
              "    }\n",
              "</style>\n",
              "<table border=\"1\" class=\"dataframe\">\n",
              "  <thead>\n",
              "    <tr style=\"text-align: right;\">\n",
              "      <th></th>\n",
              "      <th>Fp1</th>\n",
              "      <th>AF3</th>\n",
              "      <th>F3</th>\n",
              "      <th>F7</th>\n",
              "      <th>FC5</th>\n",
              "      <th>FC1</th>\n",
              "      <th>C3</th>\n",
              "      <th>T7</th>\n",
              "      <th>CP5</th>\n",
              "      <th>CP1</th>\n",
              "      <th>...</th>\n",
              "      <th>FC2</th>\n",
              "      <th>Cz</th>\n",
              "      <th>C4</th>\n",
              "      <th>T8</th>\n",
              "      <th>CP6</th>\n",
              "      <th>CP2</th>\n",
              "      <th>P4</th>\n",
              "      <th>P8</th>\n",
              "      <th>PO4</th>\n",
              "      <th>O2</th>\n",
              "    </tr>\n",
              "  </thead>\n",
              "  <tbody>\n",
              "    <tr>\n",
              "      <th>count</th>\n",
              "      <td>195.000000</td>\n",
              "      <td>195.000000</td>\n",
              "      <td>195.000000</td>\n",
              "      <td>195.000000</td>\n",
              "      <td>195.000000</td>\n",
              "      <td>195.000000</td>\n",
              "      <td>195.000000</td>\n",
              "      <td>195.000000</td>\n",
              "      <td>195.000000</td>\n",
              "      <td>195.000000</td>\n",
              "      <td>...</td>\n",
              "      <td>195.000000</td>\n",
              "      <td>195.000000</td>\n",
              "      <td>195.000000</td>\n",
              "      <td>195.000000</td>\n",
              "      <td>195.000000</td>\n",
              "      <td>195.000000</td>\n",
              "      <td>195.000000</td>\n",
              "      <td>195.000000</td>\n",
              "      <td>195.000000</td>\n",
              "      <td>195.000000</td>\n",
              "    </tr>\n",
              "    <tr>\n",
              "      <th>mean</th>\n",
              "      <td>-0.106505</td>\n",
              "      <td>-0.349343</td>\n",
              "      <td>-0.042240</td>\n",
              "      <td>-0.299562</td>\n",
              "      <td>0.226797</td>\n",
              "      <td>0.050570</td>\n",
              "      <td>0.262757</td>\n",
              "      <td>-0.339075</td>\n",
              "      <td>0.499166</td>\n",
              "      <td>-0.019999</td>\n",
              "      <td>...</td>\n",
              "      <td>-1.176044</td>\n",
              "      <td>0.003777</td>\n",
              "      <td>0.162426</td>\n",
              "      <td>-0.205818</td>\n",
              "      <td>0.528529</td>\n",
              "      <td>0.330874</td>\n",
              "      <td>0.202599</td>\n",
              "      <td>0.006220</td>\n",
              "      <td>0.753846</td>\n",
              "      <td>116.324631</td>\n",
              "    </tr>\n",
              "    <tr>\n",
              "      <th>std</th>\n",
              "      <td>5.413082</td>\n",
              "      <td>40.817099</td>\n",
              "      <td>4.231414</td>\n",
              "      <td>28.327196</td>\n",
              "      <td>32.842429</td>\n",
              "      <td>9.909672</td>\n",
              "      <td>31.506629</td>\n",
              "      <td>42.499395</td>\n",
              "      <td>57.459542</td>\n",
              "      <td>14.832331</td>\n",
              "      <td>...</td>\n",
              "      <td>196.030158</td>\n",
              "      <td>3.746052</td>\n",
              "      <td>16.718352</td>\n",
              "      <td>42.422750</td>\n",
              "      <td>85.065154</td>\n",
              "      <td>50.036629</td>\n",
              "      <td>29.564096</td>\n",
              "      <td>0.004848</td>\n",
              "      <td>0.431878</td>\n",
              "      <td>43.521413</td>\n",
              "    </tr>\n",
              "    <tr>\n",
              "      <th>min</th>\n",
              "      <td>-18.735390</td>\n",
              "      <td>-174.162043</td>\n",
              "      <td>-10.964000</td>\n",
              "      <td>-117.254905</td>\n",
              "      <td>-95.516772</td>\n",
              "      <td>-29.704726</td>\n",
              "      <td>-93.189754</td>\n",
              "      <td>-175.751521</td>\n",
              "      <td>-169.456961</td>\n",
              "      <td>-59.674319</td>\n",
              "      <td>...</td>\n",
              "      <td>-839.742441</td>\n",
              "      <td>-12.207208</td>\n",
              "      <td>-42.033744</td>\n",
              "      <td>-179.094185</td>\n",
              "      <td>-240.847897</td>\n",
              "      <td>-146.128309</td>\n",
              "      <td>-80.901045</td>\n",
              "      <td>0.001680</td>\n",
              "      <td>0.000000</td>\n",
              "      <td>65.476000</td>\n",
              "    </tr>\n",
              "    <tr>\n",
              "      <th>25%</th>\n",
              "      <td>-3.400272</td>\n",
              "      <td>-12.026347</td>\n",
              "      <td>-3.186378</td>\n",
              "      <td>-10.372932</td>\n",
              "      <td>-11.161279</td>\n",
              "      <td>-5.009656</td>\n",
              "      <td>-9.012655</td>\n",
              "      <td>-14.709759</td>\n",
              "      <td>-16.210154</td>\n",
              "      <td>-5.761297</td>\n",
              "      <td>...</td>\n",
              "      <td>-46.760695</td>\n",
              "      <td>-2.268921</td>\n",
              "      <td>-6.388532</td>\n",
              "      <td>-17.249298</td>\n",
              "      <td>-24.784211</td>\n",
              "      <td>-13.037962</td>\n",
              "      <td>-8.775240</td>\n",
              "      <td>0.003460</td>\n",
              "      <td>1.000000</td>\n",
              "      <td>84.291000</td>\n",
              "    </tr>\n",
              "    <tr>\n",
              "      <th>50%</th>\n",
              "      <td>0.405876</td>\n",
              "      <td>-0.259976</td>\n",
              "      <td>-0.126543</td>\n",
              "      <td>-0.265751</td>\n",
              "      <td>0.214436</td>\n",
              "      <td>-0.073445</td>\n",
              "      <td>0.666480</td>\n",
              "      <td>-0.410979</td>\n",
              "      <td>1.870917</td>\n",
              "      <td>0.246369</td>\n",
              "      <td>...</td>\n",
              "      <td>-2.669080</td>\n",
              "      <td>0.060986</td>\n",
              "      <td>0.264788</td>\n",
              "      <td>0.885534</td>\n",
              "      <td>0.361499</td>\n",
              "      <td>0.968173</td>\n",
              "      <td>-0.747113</td>\n",
              "      <td>0.004940</td>\n",
              "      <td>1.000000</td>\n",
              "      <td>104.315000</td>\n",
              "    </tr>\n",
              "    <tr>\n",
              "      <th>75%</th>\n",
              "      <td>3.057775</td>\n",
              "      <td>11.600970</td>\n",
              "      <td>2.561254</td>\n",
              "      <td>10.780359</td>\n",
              "      <td>9.818905</td>\n",
              "      <td>4.674052</td>\n",
              "      <td>8.440832</td>\n",
              "      <td>17.121559</td>\n",
              "      <td>14.427592</td>\n",
              "      <td>5.516463</td>\n",
              "      <td>...</td>\n",
              "      <td>54.802399</td>\n",
              "      <td>2.483893</td>\n",
              "      <td>7.185898</td>\n",
              "      <td>16.891510</td>\n",
              "      <td>21.546786</td>\n",
              "      <td>12.277061</td>\n",
              "      <td>8.434530</td>\n",
              "      <td>0.007365</td>\n",
              "      <td>1.000000</td>\n",
              "      <td>140.018500</td>\n",
              "    </tr>\n",
              "    <tr>\n",
              "      <th>max</th>\n",
              "      <td>14.212123</td>\n",
              "      <td>113.828207</td>\n",
              "      <td>11.656166</td>\n",
              "      <td>73.831522</td>\n",
              "      <td>140.707711</td>\n",
              "      <td>38.094272</td>\n",
              "      <td>133.738083</td>\n",
              "      <td>118.616808</td>\n",
              "      <td>247.950231</td>\n",
              "      <td>43.397580</td>\n",
              "      <td>...</td>\n",
              "      <td>580.377956</td>\n",
              "      <td>9.599755</td>\n",
              "      <td>71.302678</td>\n",
              "      <td>124.343828</td>\n",
              "      <td>366.740914</td>\n",
              "      <td>214.349394</td>\n",
              "      <td>126.611391</td>\n",
              "      <td>0.033160</td>\n",
              "      <td>1.000000</td>\n",
              "      <td>239.170000</td>\n",
              "    </tr>\n",
              "  </tbody>\n",
              "</table>\n",
              "<p>8 rows × 32 columns</p>\n",
              "</div>\n",
              "      <button class=\"colab-df-convert\" onclick=\"convertToInteractive('df-7665b511-91ad-4452-8fcd-bd67b63a0d42')\"\n",
              "              title=\"Convert this dataframe to an interactive table.\"\n",
              "              style=\"display:none;\">\n",
              "        \n",
              "  <svg xmlns=\"http://www.w3.org/2000/svg\" height=\"24px\"viewBox=\"0 0 24 24\"\n",
              "       width=\"24px\">\n",
              "    <path d=\"M0 0h24v24H0V0z\" fill=\"none\"/>\n",
              "    <path d=\"M18.56 5.44l.94 2.06.94-2.06 2.06-.94-2.06-.94-.94-2.06-.94 2.06-2.06.94zm-11 1L8.5 8.5l.94-2.06 2.06-.94-2.06-.94L8.5 2.5l-.94 2.06-2.06.94zm10 10l.94 2.06.94-2.06 2.06-.94-2.06-.94-.94-2.06-.94 2.06-2.06.94z\"/><path d=\"M17.41 7.96l-1.37-1.37c-.4-.4-.92-.59-1.43-.59-.52 0-1.04.2-1.43.59L10.3 9.45l-7.72 7.72c-.78.78-.78 2.05 0 2.83L4 21.41c.39.39.9.59 1.41.59.51 0 1.02-.2 1.41-.59l7.78-7.78 2.81-2.81c.8-.78.8-2.07 0-2.86zM5.41 20L4 18.59l7.72-7.72 1.47 1.35L5.41 20z\"/>\n",
              "  </svg>\n",
              "      </button>\n",
              "      \n",
              "  <style>\n",
              "    .colab-df-container {\n",
              "      display:flex;\n",
              "      flex-wrap:wrap;\n",
              "      gap: 12px;\n",
              "    }\n",
              "\n",
              "    .colab-df-convert {\n",
              "      background-color: #E8F0FE;\n",
              "      border: none;\n",
              "      border-radius: 50%;\n",
              "      cursor: pointer;\n",
              "      display: none;\n",
              "      fill: #1967D2;\n",
              "      height: 32px;\n",
              "      padding: 0 0 0 0;\n",
              "      width: 32px;\n",
              "    }\n",
              "\n",
              "    .colab-df-convert:hover {\n",
              "      background-color: #E2EBFA;\n",
              "      box-shadow: 0px 1px 2px rgba(60, 64, 67, 0.3), 0px 1px 3px 1px rgba(60, 64, 67, 0.15);\n",
              "      fill: #174EA6;\n",
              "    }\n",
              "\n",
              "    [theme=dark] .colab-df-convert {\n",
              "      background-color: #3B4455;\n",
              "      fill: #D2E3FC;\n",
              "    }\n",
              "\n",
              "    [theme=dark] .colab-df-convert:hover {\n",
              "      background-color: #434B5C;\n",
              "      box-shadow: 0px 1px 3px 1px rgba(0, 0, 0, 0.15);\n",
              "      filter: drop-shadow(0px 1px 2px rgba(0, 0, 0, 0.3));\n",
              "      fill: #FFFFFF;\n",
              "    }\n",
              "  </style>\n",
              "\n",
              "      <script>\n",
              "        const buttonEl =\n",
              "          document.querySelector('#df-7665b511-91ad-4452-8fcd-bd67b63a0d42 button.colab-df-convert');\n",
              "        buttonEl.style.display =\n",
              "          google.colab.kernel.accessAllowed ? 'block' : 'none';\n",
              "\n",
              "        async function convertToInteractive(key) {\n",
              "          const element = document.querySelector('#df-7665b511-91ad-4452-8fcd-bd67b63a0d42');\n",
              "          const dataTable =\n",
              "            await google.colab.kernel.invokeFunction('convertToInteractive',\n",
              "                                                     [key], {});\n",
              "          if (!dataTable) return;\n",
              "\n",
              "          const docLinkHtml = 'Like what you see? Visit the ' +\n",
              "            '<a target=\"_blank\" href=https://colab.research.google.com/notebooks/data_table.ipynb>data table notebook</a>'\n",
              "            + ' to learn more about interactive tables.';\n",
              "          element.innerHTML = '';\n",
              "          dataTable['output_type'] = 'display_data';\n",
              "          await google.colab.output.renderOutput(dataTable, element);\n",
              "          const docLink = document.createElement('div');\n",
              "          docLink.innerHTML = docLinkHtml;\n",
              "          element.appendChild(docLink);\n",
              "        }\n",
              "      </script>\n",
              "    </div>\n",
              "  </div>\n",
              "  "
            ]
          },
          "metadata": {},
          "execution_count": 12
        }
      ],
      "source": [
        "#Getting statistical measures about the data\n",
        "delirium_data.describe()\n"
      ]
    },
    {
      "cell_type": "code",
      "execution_count": 13,
      "metadata": {
        "colab": {
          "base_uri": "https://localhost:8080/"
        },
        "id": "TSsMm6CVcOVv",
        "outputId": "29d72e8b-ccad-4bda-dbe1-2e6f1a56d750"
      },
      "outputs": [
        {
          "output_type": "execute_result",
          "data": {
            "text/plain": [
              "1    147\n",
              "0     48\n",
              "Name: PO4, dtype: int64"
            ]
          },
          "metadata": {},
          "execution_count": 13
        }
      ],
      "source": [
        "#Distribution of target Variable\n",
        "delirium_data['PO4'].value_counts()\n"
      ]
    },
    {
      "cell_type": "code",
      "execution_count": 14,
      "metadata": {
        "colab": {
          "base_uri": "https://localhost:8080/",
          "height": 553
        },
        "id": "yE3A20kjcR02",
        "outputId": "06380430-0e12-4022-ed5c-0bdb7a7ab725"
      },
      "outputs": [
        {
          "output_type": "stream",
          "name": "stderr",
          "text": [
            "<ipython-input-14-6666bed06d92>:2: FutureWarning: The default value of numeric_only in DataFrameGroupBy.mean is deprecated. In a future version, numeric_only will default to False. Either specify numeric_only or select only columns which should be valid for the function.\n",
            "  delirium_data.groupby('O2').mean()\n"
          ]
        },
        {
          "output_type": "execute_result",
          "data": {
            "text/plain": [
              "               Fp1         AF3        F3          F7         FC5        FC1  \\\n",
              "O2                                                                            \n",
              "65.476    2.511407    3.546602  0.712222    1.542179    2.627335   2.293633   \n",
              "65.750    1.523237   -0.602506  0.640910   -3.681350   -0.495385   2.997768   \n",
              "65.782   -4.891851  -10.492788 -5.619745  -11.705940   -3.610297  -2.390153   \n",
              "65.809   -5.207181    6.955801 -5.427543    2.754774  -13.473625  -7.964273   \n",
              "66.004   -4.054660    5.169865 -6.358872   -0.265751  -19.953521 -11.489155   \n",
              "...            ...         ...       ...         ...         ...        ...   \n",
              "231.848   0.050468   -1.953385 -4.113892   -5.008174   -4.581118   2.247499   \n",
              "232.435  -3.733645  -12.986918  0.386958   -7.767238   10.085025   0.413109   \n",
              "232.483   1.241557   -0.259976  2.339915    2.027353    3.877634  -0.121861   \n",
              "237.303 -18.735390 -169.424029  1.078956 -114.474145  132.858828  34.849356   \n",
              "239.170  -5.192320  -52.484816  2.265127  -45.902700   33.093948  15.134129   \n",
              "\n",
              "                 C3          T7         CP5        CP1  ...         FC6  \\\n",
              "O2                                                      ...               \n",
              "65.476     2.396762   11.832288    2.481620  10.529218  ...   -3.372557   \n",
              "65.750     4.650823  -28.775490    7.566945   7.618182  ...   -6.954164   \n",
              "65.782    -0.129345   -6.858936    1.870917   2.305762  ...   -5.458472   \n",
              "65.809    -8.062369   11.141585   -9.598495   2.847694  ...   17.914322   \n",
              "66.004   -13.228803   -9.802602  -19.092280   2.100287  ...   18.611819   \n",
              "...             ...         ...         ...        ...  ...         ...   \n",
              "231.848    0.945681  -12.860464    0.103898   1.990105  ...    2.150231   \n",
              "232.435    9.076155    3.159986   16.212041   3.101214  ...   -9.745200   \n",
              "232.483    1.774618    3.985802   -0.934639   0.829981  ...    2.145985   \n",
              "237.303  123.960426 -162.299501  233.924370 -56.746355  ... -227.839579   \n",
              "239.170   42.549548  -63.232283   66.928184  -8.118985  ...  -72.003707   \n",
              "\n",
              "                FC2        Cz         C4          T8         CP6         CP2  \\\n",
              "O2                                                                             \n",
              "65.476    20.824231 -1.544937  -3.561599  -19.619231  -14.429211   -6.707974   \n",
              "65.750    -2.220223  0.737023   2.709824  -24.769721    0.250220    2.563290   \n",
              "65.782     5.163933 -0.389791   3.313404   11.816830    1.591645    1.168659   \n",
              "65.809    39.893803 -4.570857  -3.698133   23.303497  -20.345045  -12.766406   \n",
              "66.004    52.774316 -5.288666  -0.380718   24.318334  -15.632878  -13.011219   \n",
              "...             ...       ...        ...         ...         ...         ...   \n",
              "231.848    1.279941  3.298961   3.885983  -17.674799    0.087917    3.839810   \n",
              "232.435  -31.051305 -0.401753   5.857834   11.117755   11.453506    9.028562   \n",
              "232.483   -2.182863 -0.347955  -0.987527   11.832682   -1.560918    1.123065   \n",
              "237.303 -799.323284 -2.202254  70.991231 -137.720305  350.917161  205.601778   \n",
              "239.170 -228.441486  4.859567  24.233506  -50.951069  101.879194   62.178138   \n",
              "\n",
              "                 P4       P8  PO4  \n",
              "O2                                 \n",
              "65.476    -4.051094  0.00831  1.0  \n",
              "65.750     3.475162  0.00971  1.0  \n",
              "65.782     5.068995  0.00840  1.0  \n",
              "65.809    -6.679291  0.01101  1.0  \n",
              "66.004    -1.542947  0.00923  1.0  \n",
              "...             ...      ...  ...  \n",
              "231.848   -0.747113  0.00235  0.0  \n",
              "232.435    3.245566  0.00210  0.0  \n",
              "232.483   -1.065610  0.00281  0.0  \n",
              "237.303  120.665546  0.00339  0.0  \n",
              "239.170   39.015458  0.00451  0.0  \n",
              "\n",
              "[195 rows x 31 columns]"
            ],
            "text/html": [
              "\n",
              "  <div id=\"df-39b5db61-47eb-4b10-8c55-6af3720f315d\">\n",
              "    <div class=\"colab-df-container\">\n",
              "      <div>\n",
              "<style scoped>\n",
              "    .dataframe tbody tr th:only-of-type {\n",
              "        vertical-align: middle;\n",
              "    }\n",
              "\n",
              "    .dataframe tbody tr th {\n",
              "        vertical-align: top;\n",
              "    }\n",
              "\n",
              "    .dataframe thead th {\n",
              "        text-align: right;\n",
              "    }\n",
              "</style>\n",
              "<table border=\"1\" class=\"dataframe\">\n",
              "  <thead>\n",
              "    <tr style=\"text-align: right;\">\n",
              "      <th></th>\n",
              "      <th>Fp1</th>\n",
              "      <th>AF3</th>\n",
              "      <th>F3</th>\n",
              "      <th>F7</th>\n",
              "      <th>FC5</th>\n",
              "      <th>FC1</th>\n",
              "      <th>C3</th>\n",
              "      <th>T7</th>\n",
              "      <th>CP5</th>\n",
              "      <th>CP1</th>\n",
              "      <th>...</th>\n",
              "      <th>FC6</th>\n",
              "      <th>FC2</th>\n",
              "      <th>Cz</th>\n",
              "      <th>C4</th>\n",
              "      <th>T8</th>\n",
              "      <th>CP6</th>\n",
              "      <th>CP2</th>\n",
              "      <th>P4</th>\n",
              "      <th>P8</th>\n",
              "      <th>PO4</th>\n",
              "    </tr>\n",
              "    <tr>\n",
              "      <th>O2</th>\n",
              "      <th></th>\n",
              "      <th></th>\n",
              "      <th></th>\n",
              "      <th></th>\n",
              "      <th></th>\n",
              "      <th></th>\n",
              "      <th></th>\n",
              "      <th></th>\n",
              "      <th></th>\n",
              "      <th></th>\n",
              "      <th></th>\n",
              "      <th></th>\n",
              "      <th></th>\n",
              "      <th></th>\n",
              "      <th></th>\n",
              "      <th></th>\n",
              "      <th></th>\n",
              "      <th></th>\n",
              "      <th></th>\n",
              "      <th></th>\n",
              "      <th></th>\n",
              "    </tr>\n",
              "  </thead>\n",
              "  <tbody>\n",
              "    <tr>\n",
              "      <th>65.476</th>\n",
              "      <td>2.511407</td>\n",
              "      <td>3.546602</td>\n",
              "      <td>0.712222</td>\n",
              "      <td>1.542179</td>\n",
              "      <td>2.627335</td>\n",
              "      <td>2.293633</td>\n",
              "      <td>2.396762</td>\n",
              "      <td>11.832288</td>\n",
              "      <td>2.481620</td>\n",
              "      <td>10.529218</td>\n",
              "      <td>...</td>\n",
              "      <td>-3.372557</td>\n",
              "      <td>20.824231</td>\n",
              "      <td>-1.544937</td>\n",
              "      <td>-3.561599</td>\n",
              "      <td>-19.619231</td>\n",
              "      <td>-14.429211</td>\n",
              "      <td>-6.707974</td>\n",
              "      <td>-4.051094</td>\n",
              "      <td>0.00831</td>\n",
              "      <td>1.0</td>\n",
              "    </tr>\n",
              "    <tr>\n",
              "      <th>65.750</th>\n",
              "      <td>1.523237</td>\n",
              "      <td>-0.602506</td>\n",
              "      <td>0.640910</td>\n",
              "      <td>-3.681350</td>\n",
              "      <td>-0.495385</td>\n",
              "      <td>2.997768</td>\n",
              "      <td>4.650823</td>\n",
              "      <td>-28.775490</td>\n",
              "      <td>7.566945</td>\n",
              "      <td>7.618182</td>\n",
              "      <td>...</td>\n",
              "      <td>-6.954164</td>\n",
              "      <td>-2.220223</td>\n",
              "      <td>0.737023</td>\n",
              "      <td>2.709824</td>\n",
              "      <td>-24.769721</td>\n",
              "      <td>0.250220</td>\n",
              "      <td>2.563290</td>\n",
              "      <td>3.475162</td>\n",
              "      <td>0.00971</td>\n",
              "      <td>1.0</td>\n",
              "    </tr>\n",
              "    <tr>\n",
              "      <th>65.782</th>\n",
              "      <td>-4.891851</td>\n",
              "      <td>-10.492788</td>\n",
              "      <td>-5.619745</td>\n",
              "      <td>-11.705940</td>\n",
              "      <td>-3.610297</td>\n",
              "      <td>-2.390153</td>\n",
              "      <td>-0.129345</td>\n",
              "      <td>-6.858936</td>\n",
              "      <td>1.870917</td>\n",
              "      <td>2.305762</td>\n",
              "      <td>...</td>\n",
              "      <td>-5.458472</td>\n",
              "      <td>5.163933</td>\n",
              "      <td>-0.389791</td>\n",
              "      <td>3.313404</td>\n",
              "      <td>11.816830</td>\n",
              "      <td>1.591645</td>\n",
              "      <td>1.168659</td>\n",
              "      <td>5.068995</td>\n",
              "      <td>0.00840</td>\n",
              "      <td>1.0</td>\n",
              "    </tr>\n",
              "    <tr>\n",
              "      <th>65.809</th>\n",
              "      <td>-5.207181</td>\n",
              "      <td>6.955801</td>\n",
              "      <td>-5.427543</td>\n",
              "      <td>2.754774</td>\n",
              "      <td>-13.473625</td>\n",
              "      <td>-7.964273</td>\n",
              "      <td>-8.062369</td>\n",
              "      <td>11.141585</td>\n",
              "      <td>-9.598495</td>\n",
              "      <td>2.847694</td>\n",
              "      <td>...</td>\n",
              "      <td>17.914322</td>\n",
              "      <td>39.893803</td>\n",
              "      <td>-4.570857</td>\n",
              "      <td>-3.698133</td>\n",
              "      <td>23.303497</td>\n",
              "      <td>-20.345045</td>\n",
              "      <td>-12.766406</td>\n",
              "      <td>-6.679291</td>\n",
              "      <td>0.01101</td>\n",
              "      <td>1.0</td>\n",
              "    </tr>\n",
              "    <tr>\n",
              "      <th>66.004</th>\n",
              "      <td>-4.054660</td>\n",
              "      <td>5.169865</td>\n",
              "      <td>-6.358872</td>\n",
              "      <td>-0.265751</td>\n",
              "      <td>-19.953521</td>\n",
              "      <td>-11.489155</td>\n",
              "      <td>-13.228803</td>\n",
              "      <td>-9.802602</td>\n",
              "      <td>-19.092280</td>\n",
              "      <td>2.100287</td>\n",
              "      <td>...</td>\n",
              "      <td>18.611819</td>\n",
              "      <td>52.774316</td>\n",
              "      <td>-5.288666</td>\n",
              "      <td>-0.380718</td>\n",
              "      <td>24.318334</td>\n",
              "      <td>-15.632878</td>\n",
              "      <td>-13.011219</td>\n",
              "      <td>-1.542947</td>\n",
              "      <td>0.00923</td>\n",
              "      <td>1.0</td>\n",
              "    </tr>\n",
              "    <tr>\n",
              "      <th>...</th>\n",
              "      <td>...</td>\n",
              "      <td>...</td>\n",
              "      <td>...</td>\n",
              "      <td>...</td>\n",
              "      <td>...</td>\n",
              "      <td>...</td>\n",
              "      <td>...</td>\n",
              "      <td>...</td>\n",
              "      <td>...</td>\n",
              "      <td>...</td>\n",
              "      <td>...</td>\n",
              "      <td>...</td>\n",
              "      <td>...</td>\n",
              "      <td>...</td>\n",
              "      <td>...</td>\n",
              "      <td>...</td>\n",
              "      <td>...</td>\n",
              "      <td>...</td>\n",
              "      <td>...</td>\n",
              "      <td>...</td>\n",
              "      <td>...</td>\n",
              "    </tr>\n",
              "    <tr>\n",
              "      <th>231.848</th>\n",
              "      <td>0.050468</td>\n",
              "      <td>-1.953385</td>\n",
              "      <td>-4.113892</td>\n",
              "      <td>-5.008174</td>\n",
              "      <td>-4.581118</td>\n",
              "      <td>2.247499</td>\n",
              "      <td>0.945681</td>\n",
              "      <td>-12.860464</td>\n",
              "      <td>0.103898</td>\n",
              "      <td>1.990105</td>\n",
              "      <td>...</td>\n",
              "      <td>2.150231</td>\n",
              "      <td>1.279941</td>\n",
              "      <td>3.298961</td>\n",
              "      <td>3.885983</td>\n",
              "      <td>-17.674799</td>\n",
              "      <td>0.087917</td>\n",
              "      <td>3.839810</td>\n",
              "      <td>-0.747113</td>\n",
              "      <td>0.00235</td>\n",
              "      <td>0.0</td>\n",
              "    </tr>\n",
              "    <tr>\n",
              "      <th>232.435</th>\n",
              "      <td>-3.733645</td>\n",
              "      <td>-12.986918</td>\n",
              "      <td>0.386958</td>\n",
              "      <td>-7.767238</td>\n",
              "      <td>10.085025</td>\n",
              "      <td>0.413109</td>\n",
              "      <td>9.076155</td>\n",
              "      <td>3.159986</td>\n",
              "      <td>16.212041</td>\n",
              "      <td>3.101214</td>\n",
              "      <td>...</td>\n",
              "      <td>-9.745200</td>\n",
              "      <td>-31.051305</td>\n",
              "      <td>-0.401753</td>\n",
              "      <td>5.857834</td>\n",
              "      <td>11.117755</td>\n",
              "      <td>11.453506</td>\n",
              "      <td>9.028562</td>\n",
              "      <td>3.245566</td>\n",
              "      <td>0.00210</td>\n",
              "      <td>0.0</td>\n",
              "    </tr>\n",
              "    <tr>\n",
              "      <th>232.483</th>\n",
              "      <td>1.241557</td>\n",
              "      <td>-0.259976</td>\n",
              "      <td>2.339915</td>\n",
              "      <td>2.027353</td>\n",
              "      <td>3.877634</td>\n",
              "      <td>-0.121861</td>\n",
              "      <td>1.774618</td>\n",
              "      <td>3.985802</td>\n",
              "      <td>-0.934639</td>\n",
              "      <td>0.829981</td>\n",
              "      <td>...</td>\n",
              "      <td>2.145985</td>\n",
              "      <td>-2.182863</td>\n",
              "      <td>-0.347955</td>\n",
              "      <td>-0.987527</td>\n",
              "      <td>11.832682</td>\n",
              "      <td>-1.560918</td>\n",
              "      <td>1.123065</td>\n",
              "      <td>-1.065610</td>\n",
              "      <td>0.00281</td>\n",
              "      <td>0.0</td>\n",
              "    </tr>\n",
              "    <tr>\n",
              "      <th>237.303</th>\n",
              "      <td>-18.735390</td>\n",
              "      <td>-169.424029</td>\n",
              "      <td>1.078956</td>\n",
              "      <td>-114.474145</td>\n",
              "      <td>132.858828</td>\n",
              "      <td>34.849356</td>\n",
              "      <td>123.960426</td>\n",
              "      <td>-162.299501</td>\n",
              "      <td>233.924370</td>\n",
              "      <td>-56.746355</td>\n",
              "      <td>...</td>\n",
              "      <td>-227.839579</td>\n",
              "      <td>-799.323284</td>\n",
              "      <td>-2.202254</td>\n",
              "      <td>70.991231</td>\n",
              "      <td>-137.720305</td>\n",
              "      <td>350.917161</td>\n",
              "      <td>205.601778</td>\n",
              "      <td>120.665546</td>\n",
              "      <td>0.00339</td>\n",
              "      <td>0.0</td>\n",
              "    </tr>\n",
              "    <tr>\n",
              "      <th>239.170</th>\n",
              "      <td>-5.192320</td>\n",
              "      <td>-52.484816</td>\n",
              "      <td>2.265127</td>\n",
              "      <td>-45.902700</td>\n",
              "      <td>33.093948</td>\n",
              "      <td>15.134129</td>\n",
              "      <td>42.549548</td>\n",
              "      <td>-63.232283</td>\n",
              "      <td>66.928184</td>\n",
              "      <td>-8.118985</td>\n",
              "      <td>...</td>\n",
              "      <td>-72.003707</td>\n",
              "      <td>-228.441486</td>\n",
              "      <td>4.859567</td>\n",
              "      <td>24.233506</td>\n",
              "      <td>-50.951069</td>\n",
              "      <td>101.879194</td>\n",
              "      <td>62.178138</td>\n",
              "      <td>39.015458</td>\n",
              "      <td>0.00451</td>\n",
              "      <td>0.0</td>\n",
              "    </tr>\n",
              "  </tbody>\n",
              "</table>\n",
              "<p>195 rows × 31 columns</p>\n",
              "</div>\n",
              "      <button class=\"colab-df-convert\" onclick=\"convertToInteractive('df-39b5db61-47eb-4b10-8c55-6af3720f315d')\"\n",
              "              title=\"Convert this dataframe to an interactive table.\"\n",
              "              style=\"display:none;\">\n",
              "        \n",
              "  <svg xmlns=\"http://www.w3.org/2000/svg\" height=\"24px\"viewBox=\"0 0 24 24\"\n",
              "       width=\"24px\">\n",
              "    <path d=\"M0 0h24v24H0V0z\" fill=\"none\"/>\n",
              "    <path d=\"M18.56 5.44l.94 2.06.94-2.06 2.06-.94-2.06-.94-.94-2.06-.94 2.06-2.06.94zm-11 1L8.5 8.5l.94-2.06 2.06-.94-2.06-.94L8.5 2.5l-.94 2.06-2.06.94zm10 10l.94 2.06.94-2.06 2.06-.94-2.06-.94-.94-2.06-.94 2.06-2.06.94z\"/><path d=\"M17.41 7.96l-1.37-1.37c-.4-.4-.92-.59-1.43-.59-.52 0-1.04.2-1.43.59L10.3 9.45l-7.72 7.72c-.78.78-.78 2.05 0 2.83L4 21.41c.39.39.9.59 1.41.59.51 0 1.02-.2 1.41-.59l7.78-7.78 2.81-2.81c.8-.78.8-2.07 0-2.86zM5.41 20L4 18.59l7.72-7.72 1.47 1.35L5.41 20z\"/>\n",
              "  </svg>\n",
              "      </button>\n",
              "      \n",
              "  <style>\n",
              "    .colab-df-container {\n",
              "      display:flex;\n",
              "      flex-wrap:wrap;\n",
              "      gap: 12px;\n",
              "    }\n",
              "\n",
              "    .colab-df-convert {\n",
              "      background-color: #E8F0FE;\n",
              "      border: none;\n",
              "      border-radius: 50%;\n",
              "      cursor: pointer;\n",
              "      display: none;\n",
              "      fill: #1967D2;\n",
              "      height: 32px;\n",
              "      padding: 0 0 0 0;\n",
              "      width: 32px;\n",
              "    }\n",
              "\n",
              "    .colab-df-convert:hover {\n",
              "      background-color: #E2EBFA;\n",
              "      box-shadow: 0px 1px 2px rgba(60, 64, 67, 0.3), 0px 1px 3px 1px rgba(60, 64, 67, 0.15);\n",
              "      fill: #174EA6;\n",
              "    }\n",
              "\n",
              "    [theme=dark] .colab-df-convert {\n",
              "      background-color: #3B4455;\n",
              "      fill: #D2E3FC;\n",
              "    }\n",
              "\n",
              "    [theme=dark] .colab-df-convert:hover {\n",
              "      background-color: #434B5C;\n",
              "      box-shadow: 0px 1px 3px 1px rgba(0, 0, 0, 0.15);\n",
              "      filter: drop-shadow(0px 1px 2px rgba(0, 0, 0, 0.3));\n",
              "      fill: #FFFFFF;\n",
              "    }\n",
              "  </style>\n",
              "\n",
              "      <script>\n",
              "        const buttonEl =\n",
              "          document.querySelector('#df-39b5db61-47eb-4b10-8c55-6af3720f315d button.colab-df-convert');\n",
              "        buttonEl.style.display =\n",
              "          google.colab.kernel.accessAllowed ? 'block' : 'none';\n",
              "\n",
              "        async function convertToInteractive(key) {\n",
              "          const element = document.querySelector('#df-39b5db61-47eb-4b10-8c55-6af3720f315d');\n",
              "          const dataTable =\n",
              "            await google.colab.kernel.invokeFunction('convertToInteractive',\n",
              "                                                     [key], {});\n",
              "          if (!dataTable) return;\n",
              "\n",
              "          const docLinkHtml = 'Like what you see? Visit the ' +\n",
              "            '<a target=\"_blank\" href=https://colab.research.google.com/notebooks/data_table.ipynb>data table notebook</a>'\n",
              "            + ' to learn more about interactive tables.';\n",
              "          element.innerHTML = '';\n",
              "          dataTable['output_type'] = 'display_data';\n",
              "          await google.colab.output.renderOutput(dataTable, element);\n",
              "          const docLink = document.createElement('div');\n",
              "          docLink.innerHTML = docLinkHtml;\n",
              "          element.appendChild(docLink);\n",
              "        }\n",
              "      </script>\n",
              "    </div>\n",
              "  </div>\n",
              "  "
            ]
          },
          "metadata": {},
          "execution_count": 14
        }
      ],
      "source": [
        "#Grouping data based on target variable\n",
        "delirium_data.groupby('O2').mean()\n"
      ]
    },
    {
      "cell_type": "markdown",
      "metadata": {
        "id": "TFfDgMDckkUA"
      },
      "source": [
        "Data Pre-Processing\n",
        "\n",
        "Separating the Features and Target"
      ]
    },
    {
      "cell_type": "code",
      "execution_count": 15,
      "metadata": {
        "id": "oIk69f3CcV4O"
      },
      "outputs": [],
      "source": [
        "X = delirium_data.drop(columns=['name','PO4'], axis=1)\n",
        "Y = delirium_data['name']"
      ]
    },
    {
      "cell_type": "code",
      "execution_count": 16,
      "metadata": {
        "colab": {
          "base_uri": "https://localhost:8080/"
        },
        "id": "nOrvp0AYcYWo",
        "outputId": "468c7d22-de1b-4c9f-de20-39176373d00e"
      },
      "outputs": [
        {
          "output_type": "stream",
          "name": "stdout",
          "text": [
            "0      non-delirium\n",
            "1          delirium\n",
            "2      non-delirium\n",
            "3      non-delirium\n",
            "4      non-delirium\n",
            "           ...     \n",
            "190        delirium\n",
            "191    non-delirium\n",
            "192    non-delirium\n",
            "193    non-delirium\n",
            "194        delirium\n",
            "Name: name, Length: 195, dtype: object\n"
          ]
        }
      ],
      "source": [
        "print(Y)\n"
      ]
    },
    {
      "cell_type": "markdown",
      "metadata": {
        "id": "SzXdqtjylBBM"
      },
      "source": [
        "Splitting data into Test and Training Data"
      ]
    },
    {
      "cell_type": "code",
      "execution_count": 17,
      "metadata": {
        "id": "fUnZNN6WcbpA"
      },
      "outputs": [],
      "source": [
        "X_train, X_test, Y_train, Y_test = train_test_split(X, Y, test_size=0.2, random_state=2)\n"
      ]
    },
    {
      "cell_type": "code",
      "execution_count": 18,
      "metadata": {
        "colab": {
          "base_uri": "https://localhost:8080/"
        },
        "id": "wV0uPMDKccw3",
        "outputId": "26cb8d60-0538-4cbb-9b5f-9aa67bf25c12"
      },
      "outputs": [
        {
          "output_type": "stream",
          "name": "stdout",
          "text": [
            "(195, 31) (156, 31) (39, 31)\n"
          ]
        }
      ],
      "source": [
        "print(X.shape, X_train.shape, X_test.shape)\n"
      ]
    },
    {
      "cell_type": "markdown",
      "metadata": {
        "id": "U_ADVTXClV3D"
      },
      "source": [
        "Data Standardization"
      ]
    },
    {
      "cell_type": "code",
      "execution_count": 19,
      "metadata": {
        "id": "M3HJZy3ucwwW"
      },
      "outputs": [],
      "source": [
        "scaler = StandardScaler()\n"
      ]
    },
    {
      "cell_type": "code",
      "execution_count": 20,
      "metadata": {
        "colab": {
          "base_uri": "https://localhost:8080/",
          "height": 74
        },
        "id": "f3K_RvOncuzJ",
        "outputId": "9b58685e-b555-4ddd-b69c-8a4414f84b7a"
      },
      "outputs": [
        {
          "output_type": "execute_result",
          "data": {
            "text/plain": [
              "StandardScaler()"
            ],
            "text/html": [
              "<style>#sk-container-id-1 {color: black;background-color: white;}#sk-container-id-1 pre{padding: 0;}#sk-container-id-1 div.sk-toggleable {background-color: white;}#sk-container-id-1 label.sk-toggleable__label {cursor: pointer;display: block;width: 100%;margin-bottom: 0;padding: 0.3em;box-sizing: border-box;text-align: center;}#sk-container-id-1 label.sk-toggleable__label-arrow:before {content: \"▸\";float: left;margin-right: 0.25em;color: #696969;}#sk-container-id-1 label.sk-toggleable__label-arrow:hover:before {color: black;}#sk-container-id-1 div.sk-estimator:hover label.sk-toggleable__label-arrow:before {color: black;}#sk-container-id-1 div.sk-toggleable__content {max-height: 0;max-width: 0;overflow: hidden;text-align: left;background-color: #f0f8ff;}#sk-container-id-1 div.sk-toggleable__content pre {margin: 0.2em;color: black;border-radius: 0.25em;background-color: #f0f8ff;}#sk-container-id-1 input.sk-toggleable__control:checked~div.sk-toggleable__content {max-height: 200px;max-width: 100%;overflow: auto;}#sk-container-id-1 input.sk-toggleable__control:checked~label.sk-toggleable__label-arrow:before {content: \"▾\";}#sk-container-id-1 div.sk-estimator input.sk-toggleable__control:checked~label.sk-toggleable__label {background-color: #d4ebff;}#sk-container-id-1 div.sk-label input.sk-toggleable__control:checked~label.sk-toggleable__label {background-color: #d4ebff;}#sk-container-id-1 input.sk-hidden--visually {border: 0;clip: rect(1px 1px 1px 1px);clip: rect(1px, 1px, 1px, 1px);height: 1px;margin: -1px;overflow: hidden;padding: 0;position: absolute;width: 1px;}#sk-container-id-1 div.sk-estimator {font-family: monospace;background-color: #f0f8ff;border: 1px dotted black;border-radius: 0.25em;box-sizing: border-box;margin-bottom: 0.5em;}#sk-container-id-1 div.sk-estimator:hover {background-color: #d4ebff;}#sk-container-id-1 div.sk-parallel-item::after {content: \"\";width: 100%;border-bottom: 1px solid gray;flex-grow: 1;}#sk-container-id-1 div.sk-label:hover label.sk-toggleable__label {background-color: #d4ebff;}#sk-container-id-1 div.sk-serial::before {content: \"\";position: absolute;border-left: 1px solid gray;box-sizing: border-box;top: 0;bottom: 0;left: 50%;z-index: 0;}#sk-container-id-1 div.sk-serial {display: flex;flex-direction: column;align-items: center;background-color: white;padding-right: 0.2em;padding-left: 0.2em;position: relative;}#sk-container-id-1 div.sk-item {position: relative;z-index: 1;}#sk-container-id-1 div.sk-parallel {display: flex;align-items: stretch;justify-content: center;background-color: white;position: relative;}#sk-container-id-1 div.sk-item::before, #sk-container-id-1 div.sk-parallel-item::before {content: \"\";position: absolute;border-left: 1px solid gray;box-sizing: border-box;top: 0;bottom: 0;left: 50%;z-index: -1;}#sk-container-id-1 div.sk-parallel-item {display: flex;flex-direction: column;z-index: 1;position: relative;background-color: white;}#sk-container-id-1 div.sk-parallel-item:first-child::after {align-self: flex-end;width: 50%;}#sk-container-id-1 div.sk-parallel-item:last-child::after {align-self: flex-start;width: 50%;}#sk-container-id-1 div.sk-parallel-item:only-child::after {width: 0;}#sk-container-id-1 div.sk-dashed-wrapped {border: 1px dashed gray;margin: 0 0.4em 0.5em 0.4em;box-sizing: border-box;padding-bottom: 0.4em;background-color: white;}#sk-container-id-1 div.sk-label label {font-family: monospace;font-weight: bold;display: inline-block;line-height: 1.2em;}#sk-container-id-1 div.sk-label-container {text-align: center;}#sk-container-id-1 div.sk-container {/* jupyter's `normalize.less` sets `[hidden] { display: none; }` but bootstrap.min.css set `[hidden] { display: none !important; }` so we also need the `!important` here to be able to override the default hidden behavior on the sphinx rendered scikit-learn.org. See: https://github.com/scikit-learn/scikit-learn/issues/21755 */display: inline-block !important;position: relative;}#sk-container-id-1 div.sk-text-repr-fallback {display: none;}</style><div id=\"sk-container-id-1\" class=\"sk-top-container\"><div class=\"sk-text-repr-fallback\"><pre>StandardScaler()</pre><b>In a Jupyter environment, please rerun this cell to show the HTML representation or trust the notebook. <br />On GitHub, the HTML representation is unable to render, please try loading this page with nbviewer.org.</b></div><div class=\"sk-container\" hidden><div class=\"sk-item\"><div class=\"sk-estimator sk-toggleable\"><input class=\"sk-toggleable__control sk-hidden--visually\" id=\"sk-estimator-id-1\" type=\"checkbox\" checked><label for=\"sk-estimator-id-1\" class=\"sk-toggleable__label sk-toggleable__label-arrow\">StandardScaler</label><div class=\"sk-toggleable__content\"><pre>StandardScaler()</pre></div></div></div></div></div>"
            ]
          },
          "metadata": {},
          "execution_count": 20
        }
      ],
      "source": [
        "scaler.fit(X_train)\n"
      ]
    },
    {
      "cell_type": "code",
      "execution_count": 21,
      "metadata": {
        "id": "woIyi0xBc169"
      },
      "outputs": [],
      "source": [
        "X_train = scaler.transform(X_train)\n",
        "\n",
        "X_test = scaler.transform(X_test)"
      ]
    },
    {
      "cell_type": "code",
      "execution_count": 22,
      "metadata": {
        "colab": {
          "base_uri": "https://localhost:8080/"
        },
        "id": "FKQA0U2sc6BE",
        "outputId": "ef7940b1-9e35-41ef-df50-aa30c50b5e95"
      },
      "outputs": [
        {
          "output_type": "stream",
          "name": "stdout",
          "text": [
            "[[ 1.48054249  0.91166249  1.55305168 ... -0.90385606  0.36806203\n",
            "  -0.87985049]\n",
            " [ 2.43532539  1.16410414 -0.86819113 ... -1.27953593 -0.12997764\n",
            "  -0.9284778 ]\n",
            " [ 0.57131577  0.49533405  0.98743891 ... -0.70725335 -0.55550578\n",
            "  -1.12211107]\n",
            " ...\n",
            " [-0.76992339 -0.26497566 -0.40735681 ...  0.33950573 -0.46582048\n",
            "  -0.160638  ]\n",
            " [ 0.65587375  0.05603319  0.03985073 ... -0.0270407  -0.53451561\n",
            "  -0.79063679]\n",
            " [-2.72115468 -3.11604831  1.01642681 ...  3.09530731  0.29364231\n",
            "  -0.61914972]]\n"
          ]
        }
      ],
      "source": [
        "print(X_train)\n"
      ]
    },
    {
      "cell_type": "markdown",
      "metadata": {
        "id": "Vi_If23xlhV1"
      },
      "source": [
        "Model Training"
      ]
    },
    {
      "cell_type": "markdown",
      "metadata": {
        "id": "-s171gUulhj3"
      },
      "source": [
        "Support Vector Machine (SVM) Model"
      ]
    },
    {
      "cell_type": "code",
      "execution_count": 23,
      "metadata": {
        "id": "vKyG8RBIc9D_"
      },
      "outputs": [],
      "source": [
        "model = svm.SVC(kernel='linear')\n"
      ]
    },
    {
      "cell_type": "code",
      "execution_count": 24,
      "metadata": {
        "colab": {
          "base_uri": "https://localhost:8080/",
          "height": 74
        },
        "id": "Ih2psi9Wc_pm",
        "outputId": "88838188-a4c7-467b-e3a0-61f08dc255ca"
      },
      "outputs": [
        {
          "output_type": "execute_result",
          "data": {
            "text/plain": [
              "SVC(kernel='linear')"
            ],
            "text/html": [
              "<style>#sk-container-id-2 {color: black;background-color: white;}#sk-container-id-2 pre{padding: 0;}#sk-container-id-2 div.sk-toggleable {background-color: white;}#sk-container-id-2 label.sk-toggleable__label {cursor: pointer;display: block;width: 100%;margin-bottom: 0;padding: 0.3em;box-sizing: border-box;text-align: center;}#sk-container-id-2 label.sk-toggleable__label-arrow:before {content: \"▸\";float: left;margin-right: 0.25em;color: #696969;}#sk-container-id-2 label.sk-toggleable__label-arrow:hover:before {color: black;}#sk-container-id-2 div.sk-estimator:hover label.sk-toggleable__label-arrow:before {color: black;}#sk-container-id-2 div.sk-toggleable__content {max-height: 0;max-width: 0;overflow: hidden;text-align: left;background-color: #f0f8ff;}#sk-container-id-2 div.sk-toggleable__content pre {margin: 0.2em;color: black;border-radius: 0.25em;background-color: #f0f8ff;}#sk-container-id-2 input.sk-toggleable__control:checked~div.sk-toggleable__content {max-height: 200px;max-width: 100%;overflow: auto;}#sk-container-id-2 input.sk-toggleable__control:checked~label.sk-toggleable__label-arrow:before {content: \"▾\";}#sk-container-id-2 div.sk-estimator input.sk-toggleable__control:checked~label.sk-toggleable__label {background-color: #d4ebff;}#sk-container-id-2 div.sk-label input.sk-toggleable__control:checked~label.sk-toggleable__label {background-color: #d4ebff;}#sk-container-id-2 input.sk-hidden--visually {border: 0;clip: rect(1px 1px 1px 1px);clip: rect(1px, 1px, 1px, 1px);height: 1px;margin: -1px;overflow: hidden;padding: 0;position: absolute;width: 1px;}#sk-container-id-2 div.sk-estimator {font-family: monospace;background-color: #f0f8ff;border: 1px dotted black;border-radius: 0.25em;box-sizing: border-box;margin-bottom: 0.5em;}#sk-container-id-2 div.sk-estimator:hover {background-color: #d4ebff;}#sk-container-id-2 div.sk-parallel-item::after {content: \"\";width: 100%;border-bottom: 1px solid gray;flex-grow: 1;}#sk-container-id-2 div.sk-label:hover label.sk-toggleable__label {background-color: #d4ebff;}#sk-container-id-2 div.sk-serial::before {content: \"\";position: absolute;border-left: 1px solid gray;box-sizing: border-box;top: 0;bottom: 0;left: 50%;z-index: 0;}#sk-container-id-2 div.sk-serial {display: flex;flex-direction: column;align-items: center;background-color: white;padding-right: 0.2em;padding-left: 0.2em;position: relative;}#sk-container-id-2 div.sk-item {position: relative;z-index: 1;}#sk-container-id-2 div.sk-parallel {display: flex;align-items: stretch;justify-content: center;background-color: white;position: relative;}#sk-container-id-2 div.sk-item::before, #sk-container-id-2 div.sk-parallel-item::before {content: \"\";position: absolute;border-left: 1px solid gray;box-sizing: border-box;top: 0;bottom: 0;left: 50%;z-index: -1;}#sk-container-id-2 div.sk-parallel-item {display: flex;flex-direction: column;z-index: 1;position: relative;background-color: white;}#sk-container-id-2 div.sk-parallel-item:first-child::after {align-self: flex-end;width: 50%;}#sk-container-id-2 div.sk-parallel-item:last-child::after {align-self: flex-start;width: 50%;}#sk-container-id-2 div.sk-parallel-item:only-child::after {width: 0;}#sk-container-id-2 div.sk-dashed-wrapped {border: 1px dashed gray;margin: 0 0.4em 0.5em 0.4em;box-sizing: border-box;padding-bottom: 0.4em;background-color: white;}#sk-container-id-2 div.sk-label label {font-family: monospace;font-weight: bold;display: inline-block;line-height: 1.2em;}#sk-container-id-2 div.sk-label-container {text-align: center;}#sk-container-id-2 div.sk-container {/* jupyter's `normalize.less` sets `[hidden] { display: none; }` but bootstrap.min.css set `[hidden] { display: none !important; }` so we also need the `!important` here to be able to override the default hidden behavior on the sphinx rendered scikit-learn.org. See: https://github.com/scikit-learn/scikit-learn/issues/21755 */display: inline-block !important;position: relative;}#sk-container-id-2 div.sk-text-repr-fallback {display: none;}</style><div id=\"sk-container-id-2\" class=\"sk-top-container\"><div class=\"sk-text-repr-fallback\"><pre>SVC(kernel=&#x27;linear&#x27;)</pre><b>In a Jupyter environment, please rerun this cell to show the HTML representation or trust the notebook. <br />On GitHub, the HTML representation is unable to render, please try loading this page with nbviewer.org.</b></div><div class=\"sk-container\" hidden><div class=\"sk-item\"><div class=\"sk-estimator sk-toggleable\"><input class=\"sk-toggleable__control sk-hidden--visually\" id=\"sk-estimator-id-2\" type=\"checkbox\" checked><label for=\"sk-estimator-id-2\" class=\"sk-toggleable__label sk-toggleable__label-arrow\">SVC</label><div class=\"sk-toggleable__content\"><pre>SVC(kernel=&#x27;linear&#x27;)</pre></div></div></div></div></div>"
            ]
          },
          "metadata": {},
          "execution_count": 24
        }
      ],
      "source": [
        "#Training SVM model with training data\n",
        "model.fit(X_train, Y_train)\n"
      ]
    },
    {
      "cell_type": "markdown",
      "metadata": {
        "id": "pd1WoOR3l8NI"
      },
      "source": [
        "## Model Evaluation"
      ]
    },
    {
      "cell_type": "markdown",
      "metadata": {
        "id": "WrfhAcy1l8d0"
      },
      "source": [
        "Accuracy Score"
      ]
    },
    {
      "cell_type": "code",
      "execution_count": 25,
      "metadata": {
        "id": "ep1OJXsldCyH"
      },
      "outputs": [],
      "source": [
        "X_train_prediction = model.predict(X_train)\n",
        "training_data_accuracy = (accuracy_score(Y_train, X_train_prediction)*100)"
      ]
    },
    {
      "cell_type": "code",
      "execution_count": 26,
      "metadata": {
        "colab": {
          "base_uri": "https://localhost:8080/"
        },
        "id": "Tz3vM3EEdF63",
        "outputId": "07599071-6019-4fb5-dbd1-d6ea92754304"
      },
      "outputs": [
        {
          "output_type": "stream",
          "name": "stdout",
          "text": [
            "Accuracy score of training data :  80.12820512820514\n"
          ]
        }
      ],
      "source": [
        "print('Accuracy score of training data : ', training_data_accuracy)\n"
      ]
    },
    {
      "cell_type": "code",
      "execution_count": 27,
      "metadata": {
        "id": "bBPtOzB4dKTX"
      },
      "outputs": [],
      "source": [
        "X_test_prediction = model.predict(X_test)\n",
        "test_data_accuracy = (accuracy_score(Y_test, X_test_prediction)*100)"
      ]
    },
    {
      "cell_type": "code",
      "execution_count": 28,
      "metadata": {
        "colab": {
          "base_uri": "https://localhost:8080/"
        },
        "id": "9sDRKR6AdOdV",
        "outputId": "84c99599-e0b7-4058-e3f9-02967fbd70ff"
      },
      "outputs": [
        {
          "output_type": "stream",
          "name": "stdout",
          "text": [
            "Accuracy score of test data :  79.48717948717949\n"
          ]
        }
      ],
      "source": [
        "print('Accuracy score of test data : ', test_data_accuracy)\n"
      ]
    },
    {
      "cell_type": "markdown",
      "metadata": {
        "id": "VkO7UDvsmhGF"
      },
      "source": [
        "# Building a Predictive System"
      ]
    },
    {
      "cell_type": "code",
      "execution_count": 29,
      "metadata": {
        "colab": {
          "base_uri": "https://localhost:8080/"
        },
        "id": "AxChAYGVdSDd",
        "outputId": "c2705f5f-c5a7-474f-d5fa-305121725eb7"
      },
      "outputs": [
        {
          "output_type": "stream",
          "name": "stdout",
          "text": [
            "The Person has Delirium\n"
          ]
        },
        {
          "output_type": "stream",
          "name": "stderr",
          "text": [
            "/usr/local/lib/python3.10/dist-packages/sklearn/base.py:439: UserWarning: X does not have valid feature names, but StandardScaler was fitted with feature names\n",
            "  warnings.warn(\n"
          ]
        }
      ],
      "source": [
        "input_data = (95.730,132.068,91.754,0.00551,0.00006,0.00293,0.00332,0.00880,0.02093,0.191,0.01073,0.01277,0.01717,0.03218,0.01070,21.812,0.615551,0.773587,-5.498678,0.327769,2.322511,0.231571,0.00006,0.00293,0.00332,0.00880,0.02093,0.191,0.01073,0.01277,0.01070,)\n",
        "\n",
        "input_data_as_numpy_array = np.asarray(input_data)\n",
        "\n",
        "# reshape the numpy array\n",
        "input_data_reshaped = input_data_as_numpy_array.reshape(1,-1)\n",
        "\n",
        "# standardize the data\n",
        "std_data = scaler.transform(input_data_reshaped)\n",
        "\n",
        "prediction = model.predict(std_data)\n",
        "\n",
        "\n",
        "\n",
        "if (prediction[0] == 0):\n",
        "  print(\"The Person does not have Delirium\")\n",
        "\n",
        "else:\n",
        "  print(\"The Person has Delirium\")"
      ]
    }
  ],
  "metadata": {
    "colab": {
      "provenance": []
    },
    "kernelspec": {
      "display_name": "Python 3 (ipykernel)",
      "language": "python",
      "name": "python3"
    },
    "language_info": {
      "codemirror_mode": {
        "name": "ipython",
        "version": 3
      },
      "file_extension": ".py",
      "mimetype": "text/x-python",
      "name": "python",
      "nbconvert_exporter": "python",
      "pygments_lexer": "ipython3",
      "version": "3.10.10"
    }
  },
  "nbformat": 4,
  "nbformat_minor": 0
}